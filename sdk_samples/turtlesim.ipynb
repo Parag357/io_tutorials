{
 "cells": [
  {
   "cell_type": "markdown",
   "metadata": {},
   "source": [
    "### rapyuta.io SDK turtlesim example.\n",
    "Deploy turtlesim tutorial from SDK.\n",
    "\n",
    "turtlesim tutorial:\n",
    "SDK tutorial: https://docs.rapyuta.io/python-sdk/"
   ]
  },
  {
   "cell_type": "markdown",
   "metadata": {},
   "source": [
    "#### 1.IDs\n",
    "you can copy from rapyuta.io console"
   ]
  },
  {
   "cell_type": "code",
   "execution_count": null,
   "metadata": {},
   "outputs": [],
   "source": [
    "AUTH_TOKEN = ''\n",
    "PROJECT_ID = ''\n",
    "SIMULATOR_PACKAGE_ID = ''\n",
    "SIMULATOR_PLAN_ID = ''\n",
    "COMMAND_CENTER_PACKAGE_ID = ''\n",
    "COMMAND_CENTER_PLAN_ID = ''\n",
    "TURTLE_PACKAGE_ID = ''\n",
    "TURTLE_PLAN_ID = ''\n",
    "UI_PACKAGE_ID = ''\n",
    "UI_PLAN_ID = ''\n",
    "DEPLOYMENT_PREFIX = 'turtlesim_'\n",
    "TURTLE_NUM = 2"
   ]
  },
  {
   "cell_type": "markdown",
   "metadata": {},
   "source": [
    "#### 2. import module and create Client Instance"
   ]
  },
  {
   "cell_type": "code",
   "execution_count": null,
   "metadata": {},
   "outputs": [],
   "source": [
    "from rapyuta_io import Client\n",
    "client = Client(AUTH_TOKEN, PROJECT_ID)"
   ]
  },
  {
   "cell_type": "markdown",
   "metadata": {},
   "source": [
    "#### 3.Simulator deployment"
   ]
  },
  {
   "cell_type": "code",
   "execution_count": null,
   "metadata": {},
   "outputs": [],
   "source": [
    "simulator_package = client.get_package(SIMULATOR_PACKAGE_ID)\n",
    "simulator_configuration = simulator_package.get_provision_configuration(SIMULATOR_PLAN_ID)\n",
    "simulator_deployment = simulator_package.provision(\n",
    "                deployment_name = DEPLOYMENT_PREFIX + 'simulator',\n",
    "\t\t\t\tprovision_configuration = simulator_configuration)\n",
    "simulator_deployment.poll_deployment_till_ready()"
   ]
  },
  {
   "cell_type": "markdown",
   "metadata": {},
   "source": [
    "#### 4.Command Center deployment"
   ]
  },
  {
   "cell_type": "code",
   "execution_count": null,
   "metadata": {},
   "outputs": [],
   "source": [
    "command_center_package = client.get_package(COMMAND_CENTER_PACKAGE_ID)\n",
    "command_center_configuration = command_center_package.get_provision_configuration(COMMAND_CENTER_PLAN_ID)\n",
    "command_center_configuration.add_dependent_deployment(simulator_deployment)\n",
    "command_center_deployment = command_center_package.provision(\n",
    "                deployment_name = DEPLOYMENT_PREFIX + 'command_center',\n",
    "\t\t\t\tprovision_configuration = command_center_configuration)\n",
    "command_center_deployment.poll_deployment_till_ready()"
   ]
  },
  {
   "cell_type": "markdown",
   "metadata": {},
   "source": [
    "#### 5.UI deployment"
   ]
  },
  {
   "cell_type": "code",
   "execution_count": null,
   "metadata": {},
   "outputs": [],
   "source": [
    "ui_package = client.get_package(UI_PACKAGE_ID)\n",
    "ui_configuration = ui_package.get_provision_configuration(UI_PLAN_ID)\n",
    "ui_configuration.add_dependent_deployment(command_center_deployment)\n",
    "ui_deployment = ui_package.provision(\n",
    "                deployment_name = DEPLOYMENT_PREFIX + 'ui',\n",
    "\t\t\t\tprovision_configuration = ui_configuration)\n",
    "result = ui_deployment.poll_deployment_till_ready()\n",
    "print 'UI endpoint: ' + result['componentInfo'][0]['networkEndpoints']['UserInterface']"
   ]
  },
  {
   "cell_type": "markdown",
   "metadata": {},
   "source": [
    "#### 6.Turtle deployments"
   ]
  },
  {
   "cell_type": "code",
   "execution_count": null,
   "metadata": {},
   "outputs": [],
   "source": [
    "for i in range(TURTLE_NUM):\n",
    "    turtle_package = client.get_package(TURTLE_PACKAGE_ID)\n",
    "    turtle_configuration = turtle_package.get_provision_configuration(TURTLE_PLAN_ID)\n",
    "    turtle_configuration.add_dependent_deployment(simulator_deployment)\n",
    "    turtle_configuration.add_dependent_deployment(command_center_deployment)\n",
    "    turtle_deployment = turtle_package.provision(\n",
    "                    deployment_name = DEPLOYMENT_PREFIX + 'turtle' + str(i),\n",
    "                    provision_configuration = turtle_configuration)\n",
    "    turtle_deployment.poll_deployment_till_ready()\n",
    "    print('Turtle' + str(i) + ' started')"
   ]
  },
  {
   "cell_type": "code",
   "execution_count": null,
   "metadata": {},
   "outputs": [],
   "source": []
  }
 ],
 "metadata": {
  "kernelspec": {
   "display_name": "Python 2",
   "language": "python",
   "name": "python2"
  },
  "language_info": {
   "codemirror_mode": {
    "name": "ipython",
    "version": 2
   },
   "file_extension": ".py",
   "mimetype": "text/x-python",
   "name": "python",
   "nbconvert_exporter": "python",
   "pygments_lexer": "ipython2",
   "version": "2.7.15+"
  }
 },
 "nbformat": 4,
 "nbformat_minor": 2
}
