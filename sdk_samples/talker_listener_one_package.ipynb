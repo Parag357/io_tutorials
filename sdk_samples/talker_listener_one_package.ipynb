{
 "cells": [
  {
   "cell_type": "markdown",
   "metadata": {},
   "source": [
    "### rapyuta.io SDK talker-listener example.\n",
    "ROS topic communication between device and cloud instance with rapyuta.io\n",
    "In this example you can use the package created by publisher-subscirber tutorial.\n",
    "https://docs.rapyuta.io/dev-tutorials/ros-publisher-subscriber/\n",
    "more info: https://docs.rapyuta.io/python-sdk/talker-listener/"
   ]
  },
  {
   "cell_type": "markdown",
   "metadata": {},
   "source": [
    "#### 1.IDs\n",
    "you can copy from rapyuta.io console"
   ]
  },
  {
   "cell_type": "code",
   "execution_count": null,
   "metadata": {},
   "outputs": [],
   "source": [
    "AUTH_TOKEN = ''\n",
    "PROJECT_ID = ''\n",
    "DEVICE_ID = ''\n",
    "PACKAGE_ID = ''\n",
    "PLAN_ID = ''\n",
    "LISTENER_COMPONENT_NAME = 'listener'"
   ]
  },
  {
   "cell_type": "markdown",
   "metadata": {},
   "source": [
    "#### 2. import module and create Client Instance"
   ]
  },
  {
   "cell_type": "code",
   "execution_count": null,
   "metadata": {},
   "outputs": [],
   "source": [
    "# Authentication code snippet\n",
    "from rapyuta_io import Client\n",
    "client = Client(AUTH_TOKEN, PROJECT_ID)"
   ]
  },
  {
   "cell_type": "markdown",
   "metadata": {},
   "source": [
    "#### 3.Deploy package"
   ]
  },
  {
   "cell_type": "code",
   "execution_count": null,
   "metadata": {},
   "outputs": [],
   "source": [
    "# Device Talker code snippet\n",
    "package = client.get_package(PACKAGE_ID)\n",
    "device = client.get_device(DEVICE_ID)\n",
    "configuration = package.get_provision_configuration(PLAN_ID)\n",
    "configuration.add_device(LISTENER_COMPONENT_NAME, device)\n",
    "deployment = package.provision(deployment_name = \"talker-listener\",\n",
    "\t\t\t\t\t\tprovision_configuration = configuration)\n",
    "deployment.poll_deployment_till_ready()"
   ]
  },
  {
   "cell_type": "code",
   "execution_count": null,
   "metadata": {},
   "outputs": [],
   "source": []
  }
 ],
 "metadata": {
  "kernelspec": {
   "display_name": "Python 2",
   "language": "python",
   "name": "python2"
  },
  "language_info": {
   "codemirror_mode": {
    "name": "ipython",
    "version": 2
   },
   "file_extension": ".py",
   "mimetype": "text/x-python",
   "name": "python",
   "nbconvert_exporter": "python",
   "pygments_lexer": "ipython2",
   "version": "2.7.15+"
  }
 },
 "nbformat": 4,
 "nbformat_minor": 2
}
