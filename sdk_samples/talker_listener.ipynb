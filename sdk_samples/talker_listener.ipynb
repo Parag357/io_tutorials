{
 "cells": [
  {
   "cell_type": "markdown",
   "metadata": {},
   "source": [
    "\n",
    "### rapyuta.io SDK talker-listener example.\n",
    "ROS topic communication between device and cloud instance with rapyuta.io\n",
    "more info: https://docs.rapyuta.io/python-sdk/talker-listener/\n"
   ]
  },
  {
   "cell_type": "markdown",
   "metadata": {},
   "source": [
    "#### 1.IDs\n",
    "you can copy from rapyuta.io console"
   ]
  },
  {
   "cell_type": "code",
   "execution_count": null,
   "metadata": {},
   "outputs": [],
   "source": [
    "AUTH_TOKEN = ''\n",
    "PROJECT_ID = ''\n",
    "DEVICE_ID = ''\n",
    "TALKER_ID = ''\n",
    "TALKER_PLAN_ID = ''\n",
    "LISTENER_ID = ''\n",
    "LISTENER_PLAN_ID = ''\n",
    "LISTENER_COMPONENT_NAME = 'listener'"
   ]
  },
  {
   "cell_type": "markdown",
   "metadata": {},
   "source": [
    "#### 2. import module and create Client Instance"
   ]
  },
  {
   "cell_type": "code",
   "execution_count": null,
   "metadata": {},
   "outputs": [],
   "source": [
    "from rapyuta_io import Client\n",
    "client = Client(AUTH_TOKEN, PROJECT_ID)"
   ]
  },
  {
   "cell_type": "markdown",
   "metadata": {},
   "source": [
    "#### 3.Talker package on cloud"
   ]
  },
  {
   "cell_type": "code",
   "execution_count": null,
   "metadata": {},
   "outputs": [],
   "source": [
    "talker = client.get_package(TALKER_ID)\n",
    "talker_configuration = talker.get_provision_configuration(TALKER_PLAN_ID)\n",
    "talker_cloud_deployment = talker.provision(deployment_name=\"ROS PUBLISHER1\", provision_configuration=talker_configuration)\n",
    "talker_cloud_deployment.poll_deployment_till_ready()"
   ]
  },
  {
   "cell_type": "markdown",
   "metadata": {},
   "source": [
    "#### 4.Deploy Listener package on device"
   ]
  },
  {
   "cell_type": "code",
   "execution_count": null,
   "metadata": {},
   "outputs": [],
   "source": [
    "listener = client.get_package(LISTENER_ID)\n",
    "\n",
    "listener_configuration = listener.get_provision_configuration(LISTENER_PLAN_ID)\n",
    "\n",
    "device = client.get_device(DEVICE_ID)\n",
    "listener_configuration.add_device(LISTENER_COMPONENT_NAME, device)\n",
    "listener_configuration.add_dependent_deployment(talker_cloud_deployment)\n",
    "\n",
    "listener_device_deployment = listener.provision(deployment_name=\"ROS SUBSCRIBER\", provision_configuration=listener_configuration)\n",
    "\n",
    "listener_device_deployment.poll_deployment_till_ready()"
   ]
  },
  {
   "cell_type": "code",
   "execution_count": null,
   "metadata": {},
   "outputs": [],
   "source": []
  }
 ],
 "metadata": {
  "kernelspec": {
   "display_name": "Python 2",
   "language": "python",
   "name": "python2"
  },
  "language_info": {
   "codemirror_mode": {
    "name": "ipython",
    "version": 2
   },
   "file_extension": ".py",
   "mimetype": "text/x-python",
   "name": "python",
   "nbconvert_exporter": "python",
   "pygments_lexer": "ipython2",
   "version": "2.7.15+"
  }
 },
 "nbformat": 4,
 "nbformat_minor": 2
}
