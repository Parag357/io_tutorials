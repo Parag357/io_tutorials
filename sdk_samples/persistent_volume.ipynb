{
 "cells": [
  {
   "cell_type": "markdown",
   "metadata": {},
   "source": [
    "### rapyuta.io SDK persistent volume example.\n",
    "Create persistent volume on cloud and mount different instance on the volume\n",
    "more info: https://docs.rapyuta.io/python-sdk/persistent-volume/"
   ]
  },
  {
   "cell_type": "markdown",
   "metadata": {},
   "source": [
    "#### 1.IDs\n",
    "you can copy from rapyuta.io console"
   ]
  },
  {
   "cell_type": "code",
   "execution_count": null,
   "metadata": {},
   "outputs": [],
   "source": [
    "AUTH_TOKEN = ''\n",
    "PROJECT_ID = ''\n",
    "PACKAGE_ID = ''\n",
    "PLAN_ID = ''\n",
    "COMPONENT_NAME = 'minio'\n",
    "MOUNT_PATH = '/data'\n",
    "DEPLOYMENT_NAME = 'volume_client_deployment'"
   ]
  },
  {
   "cell_type": "markdown",
   "metadata": {},
   "source": [
    "#### 2. import module and create Client Instance"
   ]
  },
  {
   "cell_type": "code",
   "execution_count": null,
   "metadata": {},
   "outputs": [],
   "source": [
    "from rapyuta_io import Client, DiskType\n",
    "client = Client(AUTH_TOKEN, PROJECT_ID)"
   ]
  },
  {
   "cell_type": "markdown",
   "metadata": {},
   "source": [
    "#### 3. Create volume instance"
   ]
  },
  {
   "cell_type": "code",
   "execution_count": null,
   "metadata": {},
   "outputs": [],
   "source": [
    "# Create Volume code snippet\n",
    "persistent_volume = client.get_persistent_volume()\n",
    "volume_instance = persistent_volume.create_volume_instance(\"my_sample_volume\", \n",
    "                                                           32, \n",
    "                                                           DiskType.DEFAULT)\n",
    "volume_instance.poll_deployment_till_ready()"
   ]
  },
  {
   "cell_type": "markdown",
   "metadata": {},
   "source": [
    "#### 4.Mount Volume deployment"
   ]
  },
  {
   "cell_type": "code",
   "execution_count": null,
   "metadata": {},
   "outputs": [],
   "source": [
    "sample_pkg = client.get_package(PACKAGE_ID)\n",
    "pkg_provision_config = sample_pkg.get_provision_configuration(PLAN_ID)\n",
    "pkg_provision_config.mount_volume(component_name=COMPONENT_NAME,\n",
    "                                  volume_instance=volume_instance,\n",
    "                                  mount_path=MOUNT_PATH)\n",
    "# Deploy package with mounted volume code snippet\n",
    "deployment_with_volume_mounted = sample_pkg.provision(deployment_name=DEPLOYMENT_NAME,\n",
    "                                                      provision_configuration=pkg_provision_config)\n",
    "deployment_with_volume_mounted.poll_deployment_till_ready()"
   ]
  },
  {
   "cell_type": "code",
   "execution_count": null,
   "metadata": {},
   "outputs": [],
   "source": []
  }
 ],
 "metadata": {
  "kernelspec": {
   "display_name": "Python 2",
   "language": "python",
   "name": "python2"
  },
  "language_info": {
   "codemirror_mode": {
    "name": "ipython",
    "version": 2
   },
   "file_extension": ".py",
   "mimetype": "text/x-python",
   "name": "python",
   "nbconvert_exporter": "python",
   "pygments_lexer": "ipython2",
   "version": "2.7.15+"
  }
 },
 "nbformat": 4,
 "nbformat_minor": 2
}
